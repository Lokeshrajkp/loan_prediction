{
 "cells": [
  {
   "cell_type": "markdown",
   "metadata": {},
   "source": [
    "# Loan or No Loan?\n",
    "#### Author: Naresh Elugala                                                          \n",
    "As part of DPHI Bootcamp Advanced learner, Assignment# 3."
   ]
  },
  {
   "cell_type": "markdown",
   "metadata": {},
   "source": [
    "### Import libraries."
   ]
  },
  {
   "cell_type": "code",
   "execution_count": null,
   "metadata": {},
   "outputs": [
    {
     "ename": "",
     "evalue": "",
     "output_type": "error",
     "traceback": [
      "\u001b[1;31mRunning cells with 'loan_prediction' requires the ipykernel package.\n",
      "\u001b[1;31mRun the following command to install 'ipykernel' into the Python environment. \n",
      "\u001b[1;31mCommand: 'conda install -n loan_prediction ipykernel --update-deps --force-reinstall'"
     ]
    }
   ],
   "source": [
    "import pandas as pd\n",
    "import numpy as np\n",
    "import matplotlib.pyplot as plt\n",
    "import seaborn as sns\n",
    "from sklearn.metrics import f1_score"
   ]
  },
  {
   "cell_type": "markdown",
   "metadata": {},
   "source": [
    "### Load the data."
   ]
  },
  {
   "cell_type": "code",
   "execution_count": null,
   "metadata": {},
   "outputs": [
    {
     "ename": "",
     "evalue": "",
     "output_type": "error",
     "traceback": [
      "\u001b[1;31mRunning cells with 'loan_prediction' requires the ipykernel package.\n",
      "\u001b[1;31mRun the following command to install 'ipykernel' into the Python environment. \n",
      "\u001b[1;31mCommand: 'conda install -n loan_prediction ipykernel --update-deps --force-reinstall'"
     ]
    }
   ],
   "source": [
    "loan_data  = pd.read_csv(\"https://raw.githubusercontent.com/dphi-official/Datasets/master/Loan_Data/loan_train.csv\" )\n",
    "test_data = pd.read_csv('https://raw.githubusercontent.com/dphi-official/Datasets/master/Loan_Data/loan_test.csv')"
   ]
  },
  {
   "cell_type": "markdown",
   "metadata": {},
   "source": [
    "### Perform EDA."
   ]
  },
  {
   "cell_type": "markdown",
   "metadata": {},
   "source": [
    "Shape:"
   ]
  },
  {
   "cell_type": "code",
   "execution_count": null,
   "metadata": {},
   "outputs": [
    {
     "ename": "",
     "evalue": "",
     "output_type": "error",
     "traceback": [
      "\u001b[1;31mRunning cells with 'loan_prediction' requires the ipykernel package.\n",
      "\u001b[1;31mRun the following command to install 'ipykernel' into the Python environment. \n",
      "\u001b[1;31mCommand: 'conda install -n loan_prediction ipykernel --update-deps --force-reinstall'"
     ]
    }
   ],
   "source": [
    "print('Train Set:',loan_data.shape,'\\nTest Set:',test_data.shape)"
   ]
  },
  {
   "cell_type": "markdown",
   "metadata": {},
   "source": [
    "First few records:"
   ]
  },
  {
   "cell_type": "code",
   "execution_count": null,
   "metadata": {},
   "outputs": [
    {
     "ename": "",
     "evalue": "",
     "output_type": "error",
     "traceback": [
      "\u001b[1;31mRunning cells with 'loan_prediction' requires the ipykernel package.\n",
      "\u001b[1;31mRun the following command to install 'ipykernel' into the Python environment. \n",
      "\u001b[1;31mCommand: 'conda install -n loan_prediction ipykernel --update-deps --force-reinstall'"
     ]
    }
   ],
   "source": [
    "loan_data.head()"
   ]
  },
  {
   "cell_type": "code",
   "execution_count": null,
   "metadata": {},
   "outputs": [
    {
     "ename": "",
     "evalue": "",
     "output_type": "error",
     "traceback": [
      "\u001b[1;31mRunning cells with 'loan_prediction' requires the ipykernel package.\n",
      "\u001b[1;31mRun the following command to install 'ipykernel' into the Python environment. \n",
      "\u001b[1;31mCommand: 'conda install -n loan_prediction ipykernel --update-deps --force-reinstall'"
     ]
    }
   ],
   "source": [
    "test_data.head()"
   ]
  },
  {
   "cell_type": "markdown",
   "metadata": {},
   "source": [
    "Remove the \"Unnamed: 0\" column from loan_data."
   ]
  },
  {
   "cell_type": "code",
   "execution_count": null,
   "metadata": {},
   "outputs": [
    {
     "ename": "",
     "evalue": "",
     "output_type": "error",
     "traceback": [
      "\u001b[1;31mRunning cells with 'loan_prediction' requires the ipykernel package.\n",
      "\u001b[1;31mRun the following command to install 'ipykernel' into the Python environment. \n",
      "\u001b[1;31mCommand: 'conda install -n loan_prediction ipykernel --update-deps --force-reinstall'"
     ]
    }
   ],
   "source": [
    "loan_data.drop('Unnamed: 0',axis=1,inplace=True)"
   ]
  },
  {
   "cell_type": "code",
   "execution_count": null,
   "metadata": {},
   "outputs": [
    {
     "ename": "",
     "evalue": "",
     "output_type": "error",
     "traceback": [
      "\u001b[1;31mRunning cells with 'loan_prediction' requires the ipykernel package.\n",
      "\u001b[1;31mRun the following command to install 'ipykernel' into the Python environment. \n",
      "\u001b[1;31mCommand: 'conda install -n loan_prediction ipykernel --update-deps --force-reinstall'"
     ]
    }
   ],
   "source": [
    "loan_data.info()"
   ]
  },
  {
   "cell_type": "code",
   "execution_count": null,
   "metadata": {},
   "outputs": [
    {
     "ename": "",
     "evalue": "",
     "output_type": "error",
     "traceback": [
      "\u001b[1;31mRunning cells with 'loan_prediction' requires the ipykernel package.\n",
      "\u001b[1;31mRun the following command to install 'ipykernel' into the Python environment. \n",
      "\u001b[1;31mCommand: 'conda install -n loan_prediction ipykernel --update-deps --force-reinstall'"
     ]
    }
   ],
   "source": [
    "test_data.info()"
   ]
  },
  {
   "cell_type": "markdown",
   "metadata": {},
   "source": [
    "Lets describe the dataset."
   ]
  },
  {
   "cell_type": "code",
   "execution_count": null,
   "metadata": {},
   "outputs": [
    {
     "ename": "",
     "evalue": "",
     "output_type": "error",
     "traceback": [
      "\u001b[1;31mRunning cells with 'loan_prediction' requires the ipykernel package.\n",
      "\u001b[1;31mRun the following command to install 'ipykernel' into the Python environment. \n",
      "\u001b[1;31mCommand: 'conda install -n loan_prediction ipykernel --update-deps --force-reinstall'"
     ]
    }
   ],
   "source": [
    "loan_data.describe(include='all')"
   ]
  },
  {
   "cell_type": "code",
   "execution_count": null,
   "metadata": {},
   "outputs": [
    {
     "ename": "",
     "evalue": "",
     "output_type": "error",
     "traceback": [
      "\u001b[1;31mRunning cells with 'loan_prediction' requires the ipykernel package.\n",
      "\u001b[1;31mRun the following command to install 'ipykernel' into the Python environment. \n",
      "\u001b[1;31mCommand: 'conda install -n loan_prediction ipykernel --update-deps --force-reinstall'"
     ]
    }
   ],
   "source": [
    "test_data.describe(include='all')"
   ]
  },
  {
   "cell_type": "markdown",
   "metadata": {},
   "source": [
    "Remove the 'Loan_ID' feature as it has cardinality equal to the length of the dataset, so of not much use."
   ]
  },
  {
   "cell_type": "code",
   "execution_count": null,
   "metadata": {},
   "outputs": [
    {
     "ename": "",
     "evalue": "",
     "output_type": "error",
     "traceback": [
      "\u001b[1;31mRunning cells with 'loan_prediction' requires the ipykernel package.\n",
      "\u001b[1;31mRun the following command to install 'ipykernel' into the Python environment. \n",
      "\u001b[1;31mCommand: 'conda install -n loan_prediction ipykernel --update-deps --force-reinstall'"
     ]
    }
   ],
   "source": [
    "loan_data.drop('Loan_ID',axis=1,inplace=True)\n",
    "test_data.drop('Loan_ID',axis=1,inplace=True)"
   ]
  },
  {
   "cell_type": "markdown",
   "metadata": {},
   "source": [
    "Check for Nulls."
   ]
  },
  {
   "cell_type": "code",
   "execution_count": null,
   "metadata": {},
   "outputs": [
    {
     "ename": "",
     "evalue": "",
     "output_type": "error",
     "traceback": [
      "\u001b[1;31mRunning cells with 'loan_prediction' requires the ipykernel package.\n",
      "\u001b[1;31mRun the following command to install 'ipykernel' into the Python environment. \n",
      "\u001b[1;31mCommand: 'conda install -n loan_prediction ipykernel --update-deps --force-reinstall'"
     ]
    }
   ],
   "source": [
    "loan_data.isnull().sum()"
   ]
  },
  {
   "cell_type": "code",
   "execution_count": null,
   "metadata": {},
   "outputs": [
    {
     "ename": "",
     "evalue": "",
     "output_type": "error",
     "traceback": [
      "\u001b[1;31mRunning cells with 'loan_prediction' requires the ipykernel package.\n",
      "\u001b[1;31mRun the following command to install 'ipykernel' into the Python environment. \n",
      "\u001b[1;31mCommand: 'conda install -n loan_prediction ipykernel --update-deps --force-reinstall'"
     ]
    }
   ],
   "source": [
    "test_data.isnull().sum()"
   ]
  },
  {
   "cell_type": "markdown",
   "metadata": {},
   "source": [
    "Total rows with null values:"
   ]
  },
  {
   "cell_type": "code",
   "execution_count": null,
   "metadata": {},
   "outputs": [
    {
     "ename": "",
     "evalue": "",
     "output_type": "error",
     "traceback": [
      "\u001b[1;31mRunning cells with 'loan_prediction' requires the ipykernel package.\n",
      "\u001b[1;31mRun the following command to install 'ipykernel' into the Python environment. \n",
      "\u001b[1;31mCommand: 'conda install -n loan_prediction ipykernel --update-deps --force-reinstall'"
     ]
    }
   ],
   "source": [
    "loan_data.shape[0] - loan_data.dropna().shape[0]"
   ]
  },
  {
   "cell_type": "markdown",
   "metadata": {},
   "source": [
    "There are nulls and we shall have to analyze each of the feature to see how to impute/not."
   ]
  },
  {
   "cell_type": "markdown",
   "metadata": {},
   "source": [
    "Nulls in Gender:"
   ]
  },
  {
   "cell_type": "code",
   "execution_count": null,
   "metadata": {},
   "outputs": [
    {
     "ename": "",
     "evalue": "",
     "output_type": "error",
     "traceback": [
      "\u001b[1;31mRunning cells with 'loan_prediction' requires the ipykernel package.\n",
      "\u001b[1;31mRun the following command to install 'ipykernel' into the Python environment. \n",
      "\u001b[1;31mCommand: 'conda install -n loan_prediction ipykernel --update-deps --force-reinstall'"
     ]
    }
   ],
   "source": [
    "loan_data[loan_data.Gender.isnull()]"
   ]
  },
  {
   "cell_type": "code",
   "execution_count": null,
   "metadata": {},
   "outputs": [
    {
     "ename": "",
     "evalue": "",
     "output_type": "error",
     "traceback": [
      "\u001b[1;31mRunning cells with 'loan_prediction' requires the ipykernel package.\n",
      "\u001b[1;31mRun the following command to install 'ipykernel' into the Python environment. \n",
      "\u001b[1;31mCommand: 'conda install -n loan_prediction ipykernel --update-deps --force-reinstall'"
     ]
    }
   ],
   "source": [
    "test_data[test_data.Gender.isnull()]"
   ]
  },
  {
   "cell_type": "code",
   "execution_count": null,
   "metadata": {},
   "outputs": [
    {
     "ename": "",
     "evalue": "",
     "output_type": "error",
     "traceback": [
      "\u001b[1;31mRunning cells with 'loan_prediction' requires the ipykernel package.\n",
      "\u001b[1;31mRun the following command to install 'ipykernel' into the Python environment. \n",
      "\u001b[1;31mCommand: 'conda install -n loan_prediction ipykernel --update-deps --force-reinstall'"
     ]
    }
   ],
   "source": [
    "loan_data.Gender.value_counts()"
   ]
  },
  {
   "cell_type": "markdown",
   "metadata": {},
   "source": [
    "Lets replace with Mode for gender."
   ]
  },
  {
   "cell_type": "code",
   "execution_count": null,
   "metadata": {},
   "outputs": [
    {
     "ename": "",
     "evalue": "",
     "output_type": "error",
     "traceback": [
      "\u001b[1;31mRunning cells with 'loan_prediction' requires the ipykernel package.\n",
      "\u001b[1;31mRun the following command to install 'ipykernel' into the Python environment. \n",
      "\u001b[1;31mCommand: 'conda install -n loan_prediction ipykernel --update-deps --force-reinstall'"
     ]
    }
   ],
   "source": [
    "mode_gender=loan_data.Gender.mode()[0]\n",
    "print(mode_gender)\n",
    "loan_data.Gender.fillna(mode_gender,inplace=True)\n",
    "test_data.Gender.fillna(mode_gender,inplace=True)"
   ]
  },
  {
   "cell_type": "markdown",
   "metadata": {},
   "source": [
    "Check if its imputed properly or not."
   ]
  },
  {
   "cell_type": "code",
   "execution_count": null,
   "metadata": {},
   "outputs": [
    {
     "ename": "",
     "evalue": "",
     "output_type": "error",
     "traceback": [
      "\u001b[1;31mRunning cells with 'loan_prediction' requires the ipykernel package.\n",
      "\u001b[1;31mRun the following command to install 'ipykernel' into the Python environment. \n",
      "\u001b[1;31mCommand: 'conda install -n loan_prediction ipykernel --update-deps --force-reinstall'"
     ]
    }
   ],
   "source": [
    "print(loan_data.loc[59])\n",
    "print(test_data.loc[66])"
   ]
  },
  {
   "cell_type": "markdown",
   "metadata": {},
   "source": [
    "Nulls in 'Married' feature."
   ]
  },
  {
   "cell_type": "code",
   "execution_count": null,
   "metadata": {},
   "outputs": [
    {
     "ename": "",
     "evalue": "",
     "output_type": "error",
     "traceback": [
      "\u001b[1;31mRunning cells with 'loan_prediction' requires the ipykernel package.\n",
      "\u001b[1;31mRun the following command to install 'ipykernel' into the Python environment. \n",
      "\u001b[1;31mCommand: 'conda install -n loan_prediction ipykernel --update-deps --force-reinstall'"
     ]
    }
   ],
   "source": [
    "loan_data[loan_data.Married.isnull()]"
   ]
  },
  {
   "cell_type": "code",
   "execution_count": null,
   "metadata": {},
   "outputs": [
    {
     "ename": "",
     "evalue": "",
     "output_type": "error",
     "traceback": [
      "\u001b[1;31mRunning cells with 'loan_prediction' requires the ipykernel package.\n",
      "\u001b[1;31mRun the following command to install 'ipykernel' into the Python environment. \n",
      "\u001b[1;31mCommand: 'conda install -n loan_prediction ipykernel --update-deps --force-reinstall'"
     ]
    }
   ],
   "source": [
    "test_data[test_data.Married.isnull()]"
   ]
  },
  {
   "cell_type": "code",
   "execution_count": null,
   "metadata": {},
   "outputs": [
    {
     "ename": "",
     "evalue": "",
     "output_type": "error",
     "traceback": [
      "\u001b[1;31mRunning cells with 'loan_prediction' requires the ipykernel package.\n",
      "\u001b[1;31mRun the following command to install 'ipykernel' into the Python environment. \n",
      "\u001b[1;31mCommand: 'conda install -n loan_prediction ipykernel --update-deps --force-reinstall'"
     ]
    }
   ],
   "source": [
    "mode_married=loan_data.Married.mode()[0]\n",
    "print(mode_married)"
   ]
  },
  {
   "cell_type": "code",
   "execution_count": null,
   "metadata": {},
   "outputs": [
    {
     "ename": "",
     "evalue": "",
     "output_type": "error",
     "traceback": [
      "\u001b[1;31mRunning cells with 'loan_prediction' requires the ipykernel package.\n",
      "\u001b[1;31mRun the following command to install 'ipykernel' into the Python environment. \n",
      "\u001b[1;31mCommand: 'conda install -n loan_prediction ipykernel --update-deps --force-reinstall'"
     ]
    }
   ],
   "source": [
    "loan_data.Married.fillna(mode_married,inplace=True)\n",
    "test_data.Married.fillna(mode_married,inplace=True)"
   ]
  },
  {
   "cell_type": "code",
   "execution_count": null,
   "metadata": {},
   "outputs": [
    {
     "ename": "",
     "evalue": "",
     "output_type": "error",
     "traceback": [
      "\u001b[1;31mRunning cells with 'loan_prediction' requires the ipykernel package.\n",
      "\u001b[1;31mRun the following command to install 'ipykernel' into the Python environment. \n",
      "\u001b[1;31mCommand: 'conda install -n loan_prediction ipykernel --update-deps --force-reinstall'"
     ]
    }
   ],
   "source": [
    "loan_data.loc[41]"
   ]
  },
  {
   "cell_type": "code",
   "execution_count": null,
   "metadata": {},
   "outputs": [
    {
     "ename": "",
     "evalue": "",
     "output_type": "error",
     "traceback": [
      "\u001b[1;31mRunning cells with 'loan_prediction' requires the ipykernel package.\n",
      "\u001b[1;31mRun the following command to install 'ipykernel' into the Python environment. \n",
      "\u001b[1;31mCommand: 'conda install -n loan_prediction ipykernel --update-deps --force-reinstall'"
     ]
    }
   ],
   "source": [
    "test_data.loc[29]"
   ]
  },
  {
   "cell_type": "markdown",
   "metadata": {},
   "source": [
    "Nulls in 'Dependents'"
   ]
  },
  {
   "cell_type": "code",
   "execution_count": null,
   "metadata": {},
   "outputs": [
    {
     "ename": "",
     "evalue": "",
     "output_type": "error",
     "traceback": [
      "\u001b[1;31mRunning cells with 'loan_prediction' requires the ipykernel package.\n",
      "\u001b[1;31mRun the following command to install 'ipykernel' into the Python environment. \n",
      "\u001b[1;31mCommand: 'conda install -n loan_prediction ipykernel --update-deps --force-reinstall'"
     ]
    }
   ],
   "source": [
    "loan_data[loan_data.Dependents.isnull()]"
   ]
  },
  {
   "cell_type": "code",
   "execution_count": null,
   "metadata": {},
   "outputs": [
    {
     "ename": "",
     "evalue": "",
     "output_type": "error",
     "traceback": [
      "\u001b[1;31mRunning cells with 'loan_prediction' requires the ipykernel package.\n",
      "\u001b[1;31mRun the following command to install 'ipykernel' into the Python environment. \n",
      "\u001b[1;31mCommand: 'conda install -n loan_prediction ipykernel --update-deps --force-reinstall'"
     ]
    }
   ],
   "source": [
    "test_data[test_data.Dependents.isnull()]"
   ]
  },
  {
   "cell_type": "code",
   "execution_count": null,
   "metadata": {},
   "outputs": [
    {
     "ename": "",
     "evalue": "",
     "output_type": "error",
     "traceback": [
      "\u001b[1;31mRunning cells with 'loan_prediction' requires the ipykernel package.\n",
      "\u001b[1;31mRun the following command to install 'ipykernel' into the Python environment. \n",
      "\u001b[1;31mCommand: 'conda install -n loan_prediction ipykernel --update-deps --force-reinstall'"
     ]
    }
   ],
   "source": [
    "loan_data.Dependents.value_counts()"
   ]
  },
  {
   "cell_type": "code",
   "execution_count": null,
   "metadata": {},
   "outputs": [
    {
     "ename": "",
     "evalue": "",
     "output_type": "error",
     "traceback": [
      "\u001b[1;31mRunning cells with 'loan_prediction' requires the ipykernel package.\n",
      "\u001b[1;31mRun the following command to install 'ipykernel' into the Python environment. \n",
      "\u001b[1;31mCommand: 'conda install -n loan_prediction ipykernel --update-deps --force-reinstall'"
     ]
    }
   ],
   "source": [
    "mode_Dependents=loan_data.Dependents.mode()[0]\n",
    "print(mode_Dependents)"
   ]
  },
  {
   "cell_type": "code",
   "execution_count": null,
   "metadata": {},
   "outputs": [
    {
     "ename": "",
     "evalue": "",
     "output_type": "error",
     "traceback": [
      "\u001b[1;31mRunning cells with 'loan_prediction' requires the ipykernel package.\n",
      "\u001b[1;31mRun the following command to install 'ipykernel' into the Python environment. \n",
      "\u001b[1;31mCommand: 'conda install -n loan_prediction ipykernel --update-deps --force-reinstall'"
     ]
    }
   ],
   "source": [
    "loan_data.Dependents.fillna(mode_Dependents,inplace=True)\n",
    "test_data.Dependents.fillna(mode_Dependents,inplace=True)"
   ]
  },
  {
   "cell_type": "code",
   "execution_count": null,
   "metadata": {},
   "outputs": [
    {
     "ename": "",
     "evalue": "",
     "output_type": "error",
     "traceback": [
      "\u001b[1;31mRunning cells with 'loan_prediction' requires the ipykernel package.\n",
      "\u001b[1;31mRun the following command to install 'ipykernel' into the Python environment. \n",
      "\u001b[1;31mCommand: 'conda install -n loan_prediction ipykernel --update-deps --force-reinstall'"
     ]
    }
   ],
   "source": [
    "print(loan_data.loc[11])\n",
    "print(test_data.loc[26])"
   ]
  },
  {
   "cell_type": "markdown",
   "metadata": {},
   "source": [
    "Nulls in 'Self_Employed'."
   ]
  },
  {
   "cell_type": "code",
   "execution_count": null,
   "metadata": {},
   "outputs": [
    {
     "ename": "",
     "evalue": "",
     "output_type": "error",
     "traceback": [
      "\u001b[1;31mRunning cells with 'loan_prediction' requires the ipykernel package.\n",
      "\u001b[1;31mRun the following command to install 'ipykernel' into the Python environment. \n",
      "\u001b[1;31mCommand: 'conda install -n loan_prediction ipykernel --update-deps --force-reinstall'"
     ]
    }
   ],
   "source": [
    "loan_data[loan_data.Self_Employed.isnull()]"
   ]
  },
  {
   "cell_type": "code",
   "execution_count": null,
   "metadata": {},
   "outputs": [
    {
     "ename": "",
     "evalue": "",
     "output_type": "error",
     "traceback": [
      "\u001b[1;31mRunning cells with 'loan_prediction' requires the ipykernel package.\n",
      "\u001b[1;31mRun the following command to install 'ipykernel' into the Python environment. \n",
      "\u001b[1;31mCommand: 'conda install -n loan_prediction ipykernel --update-deps --force-reinstall'"
     ]
    }
   ],
   "source": [
    "test_data[test_data.Self_Employed.isnull()]"
   ]
  },
  {
   "cell_type": "code",
   "execution_count": null,
   "metadata": {},
   "outputs": [
    {
     "ename": "",
     "evalue": "",
     "output_type": "error",
     "traceback": [
      "\u001b[1;31mRunning cells with 'loan_prediction' requires the ipykernel package.\n",
      "\u001b[1;31mRun the following command to install 'ipykernel' into the Python environment. \n",
      "\u001b[1;31mCommand: 'conda install -n loan_prediction ipykernel --update-deps --force-reinstall'"
     ]
    }
   ],
   "source": [
    "mode_Self_Employed=loan_data.Self_Employed.mode()[0]\n",
    "print(mode_Self_Employed)"
   ]
  },
  {
   "cell_type": "code",
   "execution_count": null,
   "metadata": {},
   "outputs": [
    {
     "ename": "",
     "evalue": "",
     "output_type": "error",
     "traceback": [
      "\u001b[1;31mRunning cells with 'loan_prediction' requires the ipykernel package.\n",
      "\u001b[1;31mRun the following command to install 'ipykernel' into the Python environment. \n",
      "\u001b[1;31mCommand: 'conda install -n loan_prediction ipykernel --update-deps --force-reinstall'"
     ]
    }
   ],
   "source": [
    "loan_data.Self_Employed.fillna(mode_Self_Employed,inplace=True)\n",
    "test_data.Self_Employed.fillna(mode_Self_Employed,inplace=True)\n",
    "\n",
    "print(loan_data.loc[39])\n",
    "print(test_data.loc[42])"
   ]
  },
  {
   "cell_type": "markdown",
   "metadata": {},
   "source": [
    "Nulls in 'LoanAmount'."
   ]
  },
  {
   "cell_type": "code",
   "execution_count": null,
   "metadata": {},
   "outputs": [
    {
     "ename": "",
     "evalue": "",
     "output_type": "error",
     "traceback": [
      "\u001b[1;31mRunning cells with 'loan_prediction' requires the ipykernel package.\n",
      "\u001b[1;31mRun the following command to install 'ipykernel' into the Python environment. \n",
      "\u001b[1;31mCommand: 'conda install -n loan_prediction ipykernel --update-deps --force-reinstall'"
     ]
    }
   ],
   "source": [
    "loan_data[loan_data.LoanAmount.isnull()]"
   ]
  },
  {
   "cell_type": "code",
   "execution_count": null,
   "metadata": {},
   "outputs": [
    {
     "ename": "",
     "evalue": "",
     "output_type": "error",
     "traceback": [
      "\u001b[1;31mRunning cells with 'loan_prediction' requires the ipykernel package.\n",
      "\u001b[1;31mRun the following command to install 'ipykernel' into the Python environment. \n",
      "\u001b[1;31mCommand: 'conda install -n loan_prediction ipykernel --update-deps --force-reinstall'"
     ]
    }
   ],
   "source": [
    "test_data[test_data.LoanAmount.isnull()]"
   ]
  },
  {
   "cell_type": "code",
   "execution_count": null,
   "metadata": {},
   "outputs": [
    {
     "ename": "",
     "evalue": "",
     "output_type": "error",
     "traceback": [
      "\u001b[1;31mRunning cells with 'loan_prediction' requires the ipykernel package.\n",
      "\u001b[1;31mRun the following command to install 'ipykernel' into the Python environment. \n",
      "\u001b[1;31mCommand: 'conda install -n loan_prediction ipykernel --update-deps --force-reinstall'"
     ]
    }
   ],
   "source": [
    "loan_data.LoanAmount.hist()"
   ]
  },
  {
   "cell_type": "markdown",
   "metadata": {},
   "source": [
    "As it is skewed, lets take median to impute."
   ]
  },
  {
   "cell_type": "code",
   "execution_count": null,
   "metadata": {},
   "outputs": [
    {
     "ename": "",
     "evalue": "",
     "output_type": "error",
     "traceback": [
      "\u001b[1;31mRunning cells with 'loan_prediction' requires the ipykernel package.\n",
      "\u001b[1;31mRun the following command to install 'ipykernel' into the Python environment. \n",
      "\u001b[1;31mCommand: 'conda install -n loan_prediction ipykernel --update-deps --force-reinstall'"
     ]
    }
   ],
   "source": [
    "median_loanamount=loan_data.LoanAmount.median()\n",
    "print(median_loanamount)"
   ]
  },
  {
   "cell_type": "code",
   "execution_count": null,
   "metadata": {},
   "outputs": [
    {
     "ename": "",
     "evalue": "",
     "output_type": "error",
     "traceback": [
      "\u001b[1;31mRunning cells with 'loan_prediction' requires the ipykernel package.\n",
      "\u001b[1;31mRun the following command to install 'ipykernel' into the Python environment. \n",
      "\u001b[1;31mCommand: 'conda install -n loan_prediction ipykernel --update-deps --force-reinstall'"
     ]
    }
   ],
   "source": [
    "loan_data.LoanAmount.fillna(median_loanamount,inplace=True)\n",
    "test_data.LoanAmount.fillna(median_loanamount,inplace=True)\n",
    "\n",
    "print(loan_data.loc[104])\n",
    "print(test_data.loc[11])"
   ]
  },
  {
   "cell_type": "markdown",
   "metadata": {},
   "source": [
    "Nulls in Loan_Amount_Term."
   ]
  },
  {
   "cell_type": "code",
   "execution_count": null,
   "metadata": {
    "scrolled": true
   },
   "outputs": [
    {
     "ename": "",
     "evalue": "",
     "output_type": "error",
     "traceback": [
      "\u001b[1;31mRunning cells with 'loan_prediction' requires the ipykernel package.\n",
      "\u001b[1;31mRun the following command to install 'ipykernel' into the Python environment. \n",
      "\u001b[1;31mCommand: 'conda install -n loan_prediction ipykernel --update-deps --force-reinstall'"
     ]
    }
   ],
   "source": [
    "loan_data[loan_data.Loan_Amount_Term.isnull()]"
   ]
  },
  {
   "cell_type": "code",
   "execution_count": null,
   "metadata": {},
   "outputs": [
    {
     "ename": "",
     "evalue": "",
     "output_type": "error",
     "traceback": [
      "\u001b[1;31mRunning cells with 'loan_prediction' requires the ipykernel package.\n",
      "\u001b[1;31mRun the following command to install 'ipykernel' into the Python environment. \n",
      "\u001b[1;31mCommand: 'conda install -n loan_prediction ipykernel --update-deps --force-reinstall'"
     ]
    }
   ],
   "source": [
    "test_data[test_data.Loan_Amount_Term.isnull()]"
   ]
  },
  {
   "cell_type": "code",
   "execution_count": null,
   "metadata": {},
   "outputs": [
    {
     "ename": "",
     "evalue": "",
     "output_type": "error",
     "traceback": [
      "\u001b[1;31mRunning cells with 'loan_prediction' requires the ipykernel package.\n",
      "\u001b[1;31mRun the following command to install 'ipykernel' into the Python environment. \n",
      "\u001b[1;31mCommand: 'conda install -n loan_prediction ipykernel --update-deps --force-reinstall'"
     ]
    }
   ],
   "source": [
    "median_Loan_Amount_Term=loan_data.Loan_Amount_Term.mode()[0]\n",
    "print(median_Loan_Amount_Term)\n",
    "\n",
    "loan_data.Loan_Amount_Term.fillna(median_Loan_Amount_Term,inplace=True)\n",
    "test_data.Loan_Amount_Term.fillna(median_Loan_Amount_Term,inplace=True)\n",
    "\n",
    "print(loan_data.loc[3])\n",
    "print(test_data.loc[25])"
   ]
  },
  {
   "cell_type": "code",
   "execution_count": null,
   "metadata": {},
   "outputs": [
    {
     "ename": "",
     "evalue": "",
     "output_type": "error",
     "traceback": [
      "\u001b[1;31mRunning cells with 'loan_prediction' requires the ipykernel package.\n",
      "\u001b[1;31mRun the following command to install 'ipykernel' into the Python environment. \n",
      "\u001b[1;31mCommand: 'conda install -n loan_prediction ipykernel --update-deps --force-reinstall'"
     ]
    }
   ],
   "source": [
    "loan_data.dropna(inplace=True)"
   ]
  },
  {
   "cell_type": "code",
   "execution_count": null,
   "metadata": {},
   "outputs": [
    {
     "ename": "",
     "evalue": "",
     "output_type": "error",
     "traceback": [
      "\u001b[1;31mRunning cells with 'loan_prediction' requires the ipykernel package.\n",
      "\u001b[1;31mRun the following command to install 'ipykernel' into the Python environment. \n",
      "\u001b[1;31mCommand: 'conda install -n loan_prediction ipykernel --update-deps --force-reinstall'"
     ]
    }
   ],
   "source": [
    "loan_data.reset_index(drop=True)"
   ]
  },
  {
   "cell_type": "code",
   "execution_count": null,
   "metadata": {},
   "outputs": [
    {
     "ename": "",
     "evalue": "",
     "output_type": "error",
     "traceback": [
      "\u001b[1;31mRunning cells with 'loan_prediction' requires the ipykernel package.\n",
      "\u001b[1;31mRun the following command to install 'ipykernel' into the Python environment. \n",
      "\u001b[1;31mCommand: 'conda install -n loan_prediction ipykernel --update-deps --force-reinstall'"
     ]
    }
   ],
   "source": [
    "loan_data[loan_data.Credit_History.isnull()]"
   ]
  },
  {
   "cell_type": "code",
   "execution_count": null,
   "metadata": {},
   "outputs": [
    {
     "ename": "",
     "evalue": "",
     "output_type": "error",
     "traceback": [
      "\u001b[1;31mRunning cells with 'loan_prediction' requires the ipykernel package.\n",
      "\u001b[1;31mRun the following command to install 'ipykernel' into the Python environment. \n",
      "\u001b[1;31mCommand: 'conda install -n loan_prediction ipykernel --update-deps --force-reinstall'"
     ]
    }
   ],
   "source": [
    "test_data[test_data.Credit_History.isnull()]"
   ]
  },
  {
   "cell_type": "code",
   "execution_count": null,
   "metadata": {},
   "outputs": [
    {
     "ename": "",
     "evalue": "",
     "output_type": "error",
     "traceback": [
      "\u001b[1;31mRunning cells with 'loan_prediction' requires the ipykernel package.\n",
      "\u001b[1;31mRun the following command to install 'ipykernel' into the Python environment. \n",
      "\u001b[1;31mCommand: 'conda install -n loan_prediction ipykernel --update-deps --force-reinstall'"
     ]
    }
   ],
   "source": [
    "mode_Credit_History=loan_data.Credit_History.mode()[0]\n",
    "print(mode_Credit_History)\n",
    "\n",
    "loan_data.Credit_History.fillna(mode_Credit_History,inplace=True)\n",
    "test_data.Credit_History.fillna(mode_Credit_History,inplace=True)\n",
    "\n",
    "print(test_data.loc[31])"
   ]
  },
  {
   "cell_type": "code",
   "execution_count": null,
   "metadata": {},
   "outputs": [
    {
     "ename": "",
     "evalue": "",
     "output_type": "error",
     "traceback": [
      "\u001b[1;31mRunning cells with 'loan_prediction' requires the ipykernel package.\n",
      "\u001b[1;31mRun the following command to install 'ipykernel' into the Python environment. \n",
      "\u001b[1;31mCommand: 'conda install -n loan_prediction ipykernel --update-deps --force-reinstall'"
     ]
    }
   ],
   "source": [
    "loan_data.isnull().sum().sum()"
   ]
  },
  {
   "cell_type": "code",
   "execution_count": null,
   "metadata": {},
   "outputs": [
    {
     "ename": "",
     "evalue": "",
     "output_type": "error",
     "traceback": [
      "\u001b[1;31mRunning cells with 'loan_prediction' requires the ipykernel package.\n",
      "\u001b[1;31mRun the following command to install 'ipykernel' into the Python environment. \n",
      "\u001b[1;31mCommand: 'conda install -n loan_prediction ipykernel --update-deps --force-reinstall'"
     ]
    }
   ],
   "source": [
    "test_data.isnull().sum().sum()"
   ]
  },
  {
   "cell_type": "markdown",
   "metadata": {},
   "source": [
    "Check for Correlations."
   ]
  },
  {
   "cell_type": "code",
   "execution_count": null,
   "metadata": {},
   "outputs": [
    {
     "ename": "",
     "evalue": "",
     "output_type": "error",
     "traceback": [
      "\u001b[1;31mRunning cells with 'loan_prediction' requires the ipykernel package.\n",
      "\u001b[1;31mRun the following command to install 'ipykernel' into the Python environment. \n",
      "\u001b[1;31mCommand: 'conda install -n loan_prediction ipykernel --update-deps --force-reinstall'"
     ]
    }
   ],
   "source": [
    "plt.figure(figsize=(20,6))\n",
    "sns.heatmap(loan_data.corr(), cmap=\"YlGnBu\", annot=True)\n",
    "plt.show()"
   ]
  },
  {
   "cell_type": "markdown",
   "metadata": {},
   "source": [
    "Loan_Status may have coorelation with Credit history but thats not too high."
   ]
  },
  {
   "cell_type": "markdown",
   "metadata": {},
   "source": [
    "#### Feature engineering."
   ]
  },
  {
   "cell_type": "markdown",
   "metadata": {},
   "source": [
    "Lets check distributions of ApplicantIncome and Coapplicant income."
   ]
  },
  {
   "cell_type": "code",
   "execution_count": null,
   "metadata": {},
   "outputs": [
    {
     "ename": "",
     "evalue": "",
     "output_type": "error",
     "traceback": [
      "\u001b[1;31mRunning cells with 'loan_prediction' requires the ipykernel package.\n",
      "\u001b[1;31mRun the following command to install 'ipykernel' into the Python environment. \n",
      "\u001b[1;31mCommand: 'conda install -n loan_prediction ipykernel --update-deps --force-reinstall'"
     ]
    }
   ],
   "source": [
    "plt.figure(figsize=(10,4))\n",
    "plt.subplot(1,2,1)\n",
    "loan_data.ApplicantIncome.hist()\n",
    "plt.title('ApplicantIncome')\n",
    "plt.subplot(1,2,2)\n",
    "loan_data.CoapplicantIncome.hist()\n",
    "plt.title('CoapplicantIncome')\n",
    "plt.tight_layout()\n",
    "plt.show()"
   ]
  },
  {
   "cell_type": "markdown",
   "metadata": {},
   "source": [
    "They are skewed to right and may have lot of outliers as well."
   ]
  },
  {
   "cell_type": "markdown",
   "metadata": {},
   "source": [
    "#### One Hot encoding for categorical fetaures."
   ]
  },
  {
   "cell_type": "code",
   "execution_count": null,
   "metadata": {},
   "outputs": [
    {
     "ename": "",
     "evalue": "",
     "output_type": "error",
     "traceback": [
      "\u001b[1;31mRunning cells with 'loan_prediction' requires the ipykernel package.\n",
      "\u001b[1;31mRun the following command to install 'ipykernel' into the Python environment. \n",
      "\u001b[1;31mCommand: 'conda install -n loan_prediction ipykernel --update-deps --force-reinstall'"
     ]
    }
   ],
   "source": [
    "loan_data.head()"
   ]
  },
  {
   "cell_type": "code",
   "execution_count": null,
   "metadata": {},
   "outputs": [
    {
     "ename": "",
     "evalue": "",
     "output_type": "error",
     "traceback": [
      "\u001b[1;31mRunning cells with 'loan_prediction' requires the ipykernel package.\n",
      "\u001b[1;31mRun the following command to install 'ipykernel' into the Python environment. \n",
      "\u001b[1;31mCommand: 'conda install -n loan_prediction ipykernel --update-deps --force-reinstall'"
     ]
    }
   ],
   "source": [
    "loan_data.columns"
   ]
  },
  {
   "cell_type": "code",
   "execution_count": null,
   "metadata": {},
   "outputs": [
    {
     "ename": "",
     "evalue": "",
     "output_type": "error",
     "traceback": [
      "\u001b[1;31mRunning cells with 'loan_prediction' requires the ipykernel package.\n",
      "\u001b[1;31mRun the following command to install 'ipykernel' into the Python environment. \n",
      "\u001b[1;31mCommand: 'conda install -n loan_prediction ipykernel --update-deps --force-reinstall'"
     ]
    }
   ],
   "source": [
    "loan_data.reset_index(drop=True,inplace=True)"
   ]
  },
  {
   "cell_type": "code",
   "execution_count": null,
   "metadata": {},
   "outputs": [
    {
     "ename": "",
     "evalue": "",
     "output_type": "error",
     "traceback": [
      "\u001b[1;31mRunning cells with 'loan_prediction' requires the ipykernel package.\n",
      "\u001b[1;31mRun the following command to install 'ipykernel' into the Python environment. \n",
      "\u001b[1;31mCommand: 'conda install -n loan_prediction ipykernel --update-deps --force-reinstall'"
     ]
    }
   ],
   "source": [
    "loan_data"
   ]
  },
  {
   "cell_type": "code",
   "execution_count": null,
   "metadata": {},
   "outputs": [
    {
     "ename": "",
     "evalue": "",
     "output_type": "error",
     "traceback": [
      "\u001b[1;31mRunning cells with 'loan_prediction' requires the ipykernel package.\n",
      "\u001b[1;31mRun the following command to install 'ipykernel' into the Python environment. \n",
      "\u001b[1;31mCommand: 'conda install -n loan_prediction ipykernel --update-deps --force-reinstall'"
     ]
    }
   ],
   "source": [
    "cat_cols=['Gender', 'Married', 'Dependents', 'Education', 'Self_Employed','Credit_History', 'Property_Area']"
   ]
  },
  {
   "cell_type": "code",
   "execution_count": null,
   "metadata": {},
   "outputs": [
    {
     "ename": "",
     "evalue": "",
     "output_type": "error",
     "traceback": [
      "\u001b[1;31mRunning cells with 'loan_prediction' requires the ipykernel package.\n",
      "\u001b[1;31mRun the following command to install 'ipykernel' into the Python environment. \n",
      "\u001b[1;31mCommand: 'conda install -n loan_prediction ipykernel --update-deps --force-reinstall'"
     ]
    }
   ],
   "source": [
    "for i in cat_cols:\n",
    "    print(i)\n",
    "    print('Train set:',sorted(loan_data[i].unique()))\n",
    "    print('Test set:',sorted(test_data[i].unique()))"
   ]
  },
  {
   "cell_type": "code",
   "execution_count": null,
   "metadata": {},
   "outputs": [
    {
     "ename": "",
     "evalue": "",
     "output_type": "error",
     "traceback": [
      "\u001b[1;31mRunning cells with 'loan_prediction' requires the ipykernel package.\n",
      "\u001b[1;31mRun the following command to install 'ipykernel' into the Python environment. \n",
      "\u001b[1;31mCommand: 'conda install -n loan_prediction ipykernel --update-deps --force-reinstall'"
     ]
    }
   ],
   "source": [
    "from sklearn.preprocessing import OneHotEncoder\n",
    "\n",
    "ohe = OneHotEncoder(handle_unknown = 'ignore')\n",
    "load_df_encoded = ohe.fit_transform(loan_data[cat_cols]).toarray()\n",
    "test_df_encoded = ohe.transform(test_data[cat_cols]).toarray()\n",
    "\n",
    "load_df_encoded"
   ]
  },
  {
   "cell_type": "code",
   "execution_count": null,
   "metadata": {},
   "outputs": [
    {
     "ename": "",
     "evalue": "",
     "output_type": "error",
     "traceback": [
      "\u001b[1;31mRunning cells with 'loan_prediction' requires the ipykernel package.\n",
      "\u001b[1;31mRun the following command to install 'ipykernel' into the Python environment. \n",
      "\u001b[1;31mCommand: 'conda install -n loan_prediction ipykernel --update-deps --force-reinstall'"
     ]
    }
   ],
   "source": [
    "len(load_df_encoded)"
   ]
  },
  {
   "cell_type": "code",
   "execution_count": null,
   "metadata": {},
   "outputs": [
    {
     "ename": "",
     "evalue": "",
     "output_type": "error",
     "traceback": [
      "\u001b[1;31mRunning cells with 'loan_prediction' requires the ipykernel package.\n",
      "\u001b[1;31mRun the following command to install 'ipykernel' into the Python environment. \n",
      "\u001b[1;31mCommand: 'conda install -n loan_prediction ipykernel --update-deps --force-reinstall'"
     ]
    }
   ],
   "source": [
    "len(loan_data)"
   ]
  },
  {
   "cell_type": "code",
   "execution_count": null,
   "metadata": {},
   "outputs": [
    {
     "ename": "",
     "evalue": "",
     "output_type": "error",
     "traceback": [
      "\u001b[1;31mRunning cells with 'loan_prediction' requires the ipykernel package.\n",
      "\u001b[1;31mRun the following command to install 'ipykernel' into the Python environment. \n",
      "\u001b[1;31mCommand: 'conda install -n loan_prediction ipykernel --update-deps --force-reinstall'"
     ]
    }
   ],
   "source": [
    "loan_df=loan_data.drop(cat_cols,axis=1);print(loan_df.shape)\n",
    "test_df=test_data.drop(cat_cols,axis=1);print(test_df.shape)"
   ]
  },
  {
   "cell_type": "code",
   "execution_count": null,
   "metadata": {},
   "outputs": [
    {
     "ename": "",
     "evalue": "",
     "output_type": "error",
     "traceback": [
      "\u001b[1;31mRunning cells with 'loan_prediction' requires the ipykernel package.\n",
      "\u001b[1;31mRun the following command to install 'ipykernel' into the Python environment. \n",
      "\u001b[1;31mCommand: 'conda install -n loan_prediction ipykernel --update-deps --force-reinstall'"
     ]
    }
   ],
   "source": [
    "loan_df"
   ]
  },
  {
   "cell_type": "code",
   "execution_count": null,
   "metadata": {},
   "outputs": [
    {
     "ename": "",
     "evalue": "",
     "output_type": "error",
     "traceback": [
      "\u001b[1;31mRunning cells with 'loan_prediction' requires the ipykernel package.\n",
      "\u001b[1;31mRun the following command to install 'ipykernel' into the Python environment. \n",
      "\u001b[1;31mCommand: 'conda install -n loan_prediction ipykernel --update-deps --force-reinstall'"
     ]
    }
   ],
   "source": [
    "loan_df=pd.concat([loan_df,pd.DataFrame(load_df_encoded, columns=ohe.get_feature_names(loan_data[cat_cols].columns))],axis=1);print(loan_df.shape)\n",
    "test_df=pd.concat([test_df,pd.DataFrame(test_df_encoded, columns=ohe.get_feature_names(test_data[cat_cols].columns))],axis=1);print(test_df.shape)"
   ]
  },
  {
   "cell_type": "code",
   "execution_count": null,
   "metadata": {},
   "outputs": [
    {
     "ename": "",
     "evalue": "",
     "output_type": "error",
     "traceback": [
      "\u001b[1;31mRunning cells with 'loan_prediction' requires the ipykernel package.\n",
      "\u001b[1;31mRun the following command to install 'ipykernel' into the Python environment. \n",
      "\u001b[1;31mCommand: 'conda install -n loan_prediction ipykernel --update-deps --force-reinstall'"
     ]
    }
   ],
   "source": [
    "loan_df.tail()"
   ]
  },
  {
   "cell_type": "markdown",
   "metadata": {},
   "source": [
    "#### Check for class imbalance."
   ]
  },
  {
   "cell_type": "code",
   "execution_count": null,
   "metadata": {},
   "outputs": [
    {
     "ename": "",
     "evalue": "",
     "output_type": "error",
     "traceback": [
      "\u001b[1;31mRunning cells with 'loan_prediction' requires the ipykernel package.\n",
      "\u001b[1;31mRun the following command to install 'ipykernel' into the Python environment. \n",
      "\u001b[1;31mCommand: 'conda install -n loan_prediction ipykernel --update-deps --force-reinstall'"
     ]
    }
   ],
   "source": [
    "round(loan_df.Loan_Status.value_counts()/loan_df.shape[0]*100,2)"
   ]
  },
  {
   "cell_type": "markdown",
   "metadata": {},
   "source": [
    "There is imbalance, lets use SMOTE to increase the minority class synthetically."
   ]
  },
  {
   "cell_type": "markdown",
   "metadata": {},
   "source": [
    "Before that lets split the dataset into X and Y."
   ]
  },
  {
   "cell_type": "code",
   "execution_count": null,
   "metadata": {},
   "outputs": [
    {
     "ename": "",
     "evalue": "",
     "output_type": "error",
     "traceback": [
      "\u001b[1;31mRunning cells with 'loan_prediction' requires the ipykernel package.\n",
      "\u001b[1;31mRun the following command to install 'ipykernel' into the Python environment. \n",
      "\u001b[1;31mCommand: 'conda install -n loan_prediction ipykernel --update-deps --force-reinstall'"
     ]
    }
   ],
   "source": [
    "X=loan_df.drop('Loan_Status',axis=1)\n",
    "Y=loan_df.Loan_Status"
   ]
  },
  {
   "cell_type": "code",
   "execution_count": null,
   "metadata": {},
   "outputs": [
    {
     "ename": "",
     "evalue": "",
     "output_type": "error",
     "traceback": [
      "\u001b[1;31mRunning cells with 'loan_prediction' requires the ipykernel package.\n",
      "\u001b[1;31mRun the following command to install 'ipykernel' into the Python environment. \n",
      "\u001b[1;31mCommand: 'conda install -n loan_prediction ipykernel --update-deps --force-reinstall'"
     ]
    }
   ],
   "source": [
    "from sklearn.model_selection import train_test_split\n",
    "X_train, X_test, Y_train, Y_test = train_test_split(X, Y, test_size = 0.1, random_state = 42)\n",
    "print(X_train.shape, X_test.shape, Y_train.shape, Y_test.shape)"
   ]
  },
  {
   "cell_type": "code",
   "execution_count": null,
   "metadata": {},
   "outputs": [
    {
     "ename": "",
     "evalue": "",
     "output_type": "error",
     "traceback": [
      "\u001b[1;31mRunning cells with 'loan_prediction' requires the ipykernel package.\n",
      "\u001b[1;31mRun the following command to install 'ipykernel' into the Python environment. \n",
      "\u001b[1;31mCommand: 'conda install -n loan_prediction ipykernel --update-deps --force-reinstall'"
     ]
    }
   ],
   "source": [
    "Y_train.value_counts()"
   ]
  },
  {
   "cell_type": "code",
   "execution_count": null,
   "metadata": {},
   "outputs": [
    {
     "ename": "",
     "evalue": "",
     "output_type": "error",
     "traceback": [
      "\u001b[1;31mRunning cells with 'loan_prediction' requires the ipykernel package.\n",
      "\u001b[1;31mRun the following command to install 'ipykernel' into the Python environment. \n",
      "\u001b[1;31mCommand: 'conda install -n loan_prediction ipykernel --update-deps --force-reinstall'"
     ]
    }
   ],
   "source": [
    "#!pip install imblearn"
   ]
  },
  {
   "cell_type": "code",
   "execution_count": null,
   "metadata": {},
   "outputs": [
    {
     "ename": "",
     "evalue": "",
     "output_type": "error",
     "traceback": [
      "\u001b[1;31mRunning cells with 'loan_prediction' requires the ipykernel package.\n",
      "\u001b[1;31mRun the following command to install 'ipykernel' into the Python environment. \n",
      "\u001b[1;31mCommand: 'conda install -n loan_prediction ipykernel --update-deps --force-reinstall'"
     ]
    }
   ],
   "source": [
    "from imblearn.over_sampling import SMOTE\n",
    "\n",
    "sm = SMOTE(random_state = 25, sampling_strategy = 1.0)"
   ]
  },
  {
   "cell_type": "code",
   "execution_count": null,
   "metadata": {},
   "outputs": [
    {
     "ename": "",
     "evalue": "",
     "output_type": "error",
     "traceback": [
      "\u001b[1;31mRunning cells with 'loan_prediction' requires the ipykernel package.\n",
      "\u001b[1;31mRun the following command to install 'ipykernel' into the Python environment. \n",
      "\u001b[1;31mCommand: 'conda install -n loan_prediction ipykernel --update-deps --force-reinstall'"
     ]
    }
   ],
   "source": [
    "X_train, Y_train = sm.fit_sample(X_train, Y_train)"
   ]
  },
  {
   "cell_type": "code",
   "execution_count": null,
   "metadata": {},
   "outputs": [
    {
     "ename": "",
     "evalue": "",
     "output_type": "error",
     "traceback": [
      "\u001b[1;31mRunning cells with 'loan_prediction' requires the ipykernel package.\n",
      "\u001b[1;31mRun the following command to install 'ipykernel' into the Python environment. \n",
      "\u001b[1;31mCommand: 'conda install -n loan_prediction ipykernel --update-deps --force-reinstall'"
     ]
    }
   ],
   "source": [
    "Y_train.value_counts()"
   ]
  },
  {
   "cell_type": "code",
   "execution_count": null,
   "metadata": {},
   "outputs": [
    {
     "ename": "",
     "evalue": "",
     "output_type": "error",
     "traceback": [
      "\u001b[1;31mRunning cells with 'loan_prediction' requires the ipykernel package.\n",
      "\u001b[1;31mRun the following command to install 'ipykernel' into the Python environment. \n",
      "\u001b[1;31mCommand: 'conda install -n loan_prediction ipykernel --update-deps --force-reinstall'"
     ]
    }
   ],
   "source": [
    "X_train.head()"
   ]
  },
  {
   "cell_type": "markdown",
   "metadata": {},
   "source": [
    "#### Scale the data."
   ]
  },
  {
   "cell_type": "code",
   "execution_count": null,
   "metadata": {},
   "outputs": [
    {
     "ename": "",
     "evalue": "",
     "output_type": "error",
     "traceback": [
      "\u001b[1;31mRunning cells with 'loan_prediction' requires the ipykernel package.\n",
      "\u001b[1;31mRun the following command to install 'ipykernel' into the Python environment. \n",
      "\u001b[1;31mCommand: 'conda install -n loan_prediction ipykernel --update-deps --force-reinstall'"
     ]
    }
   ],
   "source": [
    "from sklearn.preprocessing import StandardScaler\n",
    "ss2=StandardScaler()\n",
    "X_train_scaled=pd.DataFrame(ss2.fit_transform(X_train),columns=X_train.columns)\n",
    "X_test_scaled=pd.DataFrame(ss2.transform(X_test),columns=X_test.columns)\n",
    "test_df_scaled=pd.DataFrame(ss2.transform(test_df),columns=test_df.columns)\n",
    "print(X_train_scaled.shape,X_test_scaled.shape,test_df_scaled.shape)"
   ]
  },
  {
   "cell_type": "markdown",
   "metadata": {},
   "source": [
    "### Model building:"
   ]
  },
  {
   "cell_type": "code",
   "execution_count": null,
   "metadata": {},
   "outputs": [
    {
     "ename": "",
     "evalue": "",
     "output_type": "error",
     "traceback": [
      "\u001b[1;31mRunning cells with 'loan_prediction' requires the ipykernel package.\n",
      "\u001b[1;31mRun the following command to install 'ipykernel' into the Python environment. \n",
      "\u001b[1;31mCommand: 'conda install -n loan_prediction ipykernel --update-deps --force-reinstall'"
     ]
    }
   ],
   "source": [
    "from sklearn.linear_model import LogisticRegression\n",
    "logit=LogisticRegression()\n",
    "logit.fit(X_train,Y_train)\n",
    "print(logit)\n",
    "Y_pred_logit=logit.predict(X_test)\n",
    "f1_logit=f1_score(Y_test,Y_pred_logit)*100\n",
    "print(f1_logit)\n",
    "pd.DataFrame(logit.predict(test_df),columns=['prediction']).to_csv(\"Sample_Submission.csv\",index=False)"
   ]
  },
  {
   "cell_type": "markdown",
   "metadata": {},
   "source": [
    "### Best Model:"
   ]
  },
  {
   "cell_type": "code",
   "execution_count": null,
   "metadata": {},
   "outputs": [
    {
     "ename": "",
     "evalue": "",
     "output_type": "error",
     "traceback": [
      "\u001b[1;31mRunning cells with 'loan_prediction' requires the ipykernel package.\n",
      "\u001b[1;31mRun the following command to install 'ipykernel' into the Python environment. \n",
      "\u001b[1;31mCommand: 'conda install -n loan_prediction ipykernel --update-deps --force-reinstall'"
     ]
    }
   ],
   "source": [
    "from sklearn.ensemble import RandomForestClassifier\n",
    "rf=RandomForestClassifier(random_state=42,n_estimators=150,max_depth=4)\n",
    "rf.fit(X_train,Y_train)\n",
    "print(rf)\n",
    "\n",
    "Y_pred_rf=rf.predict(X_test)\n",
    "f1_rf=f1_score(Y_test,Y_pred_rf)*100\n",
    "print(f1_rf)\n",
    "pd.DataFrame(rf.predict(test_df),columns=['prediction']).to_csv(\"Sample_Submission.csv\",index=False)"
   ]
  },
  {
   "cell_type": "code",
   "execution_count": null,
   "metadata": {},
   "outputs": [
    {
     "ename": "",
     "evalue": "",
     "output_type": "error",
     "traceback": [
      "\u001b[1;31mRunning cells with 'loan_prediction' requires the ipykernel package.\n",
      "\u001b[1;31mRun the following command to install 'ipykernel' into the Python environment. \n",
      "\u001b[1;31mCommand: 'conda install -n loan_prediction ipykernel --update-deps --force-reinstall'"
     ]
    }
   ],
   "source": [
    "from sklearn.naive_bayes import GaussianNB\n",
    "GNB = GaussianNB()\n",
    "GNB.fit(X_train, Y_train);print(GNB)\n",
    "\n",
    "Y_pred_GNB = GNB.predict(X_test)\n",
    "f1_GNB=f1_score(Y_test,Y_pred_GNB)*100\n",
    "print(f1_GNB)\n",
    "pd.DataFrame(GNB.predict(test_df),columns=['prediction']).to_csv(\"Sample_Submission.csv\",index=False)"
   ]
  },
  {
   "cell_type": "code",
   "execution_count": null,
   "metadata": {},
   "outputs": [
    {
     "ename": "",
     "evalue": "",
     "output_type": "error",
     "traceback": [
      "\u001b[1;31mRunning cells with 'loan_prediction' requires the ipykernel package.\n",
      "\u001b[1;31mRun the following command to install 'ipykernel' into the Python environment. \n",
      "\u001b[1;31mCommand: 'conda install -n loan_prediction ipykernel --update-deps --force-reinstall'"
     ]
    }
   ],
   "source": [
    "from sklearn.svm import SVC\n",
    "svc = SVC(kernel = 'linear')\n",
    "svc.fit(X_train, Y_train);print(svc)\n",
    "\n",
    "Y_pred_svc = svc.predict(X_test)\n",
    "f1_svc=f1_score(Y_test,Y_pred_svc)*100\n",
    "print(f1_svc)\n",
    "pd.DataFrame(svc.predict(test_df),columns=['prediction']).to_csv(\"Sample_Submission.csv\",index=False)"
   ]
  },
  {
   "cell_type": "code",
   "execution_count": null,
   "metadata": {},
   "outputs": [
    {
     "ename": "",
     "evalue": "",
     "output_type": "error",
     "traceback": [
      "\u001b[1;31mRunning cells with 'loan_prediction' requires the ipykernel package.\n",
      "\u001b[1;31mRun the following command to install 'ipykernel' into the Python environment. \n",
      "\u001b[1;31mCommand: 'conda install -n loan_prediction ipykernel --update-deps --force-reinstall'"
     ]
    }
   ],
   "source": [
    "import xgboost as xgb\n",
    "xg=xgb.XGBClassifier(random_state=1,n_estimators=100,max_depth=3,learning_rate=0.01)\n",
    "xg.fit(X_train,Y_train)\n",
    "print(xg)\n",
    "Y_pred_xg=xg.predict(X_test)\n",
    "f1_xg=f1_score(Y_test,Y_pred_xg)*100\n",
    "print(f1_xg)\n",
    "pd.DataFrame(xg.predict(test_df),columns=['prediction']).to_csv(\"Sample_Submission.csv\",index=False)"
   ]
  },
  {
   "cell_type": "code",
   "execution_count": null,
   "metadata": {},
   "outputs": [
    {
     "ename": "",
     "evalue": "",
     "output_type": "error",
     "traceback": [
      "\u001b[1;31mRunning cells with 'loan_prediction' requires the ipykernel package.\n",
      "\u001b[1;31mRun the following command to install 'ipykernel' into the Python environment. \n",
      "\u001b[1;31mCommand: 'conda install -n loan_prediction ipykernel --update-deps --force-reinstall'"
     ]
    }
   ],
   "source": [
    "from sklearn.ensemble import AdaBoostClassifier\n",
    "adab = AdaBoostClassifier(learning_rate=0.01, n_estimators=100, random_state=1)\n",
    "adab.fit(X_train,Y_train)\n",
    "print(adab)\n",
    "Y_pred_adab=adab.predict(X_test)\n",
    "f1_adab=f1_score(Y_test,Y_pred_adab)*100\n",
    "print(f1_adab)\n",
    "pd.DataFrame(adab.predict(test_df),columns=['prediction']).to_csv(\"Sample_Submission.csv\",index=False)"
   ]
  },
  {
   "cell_type": "code",
   "execution_count": null,
   "metadata": {},
   "outputs": [
    {
     "ename": "",
     "evalue": "",
     "output_type": "error",
     "traceback": [
      "\u001b[1;31mRunning cells with 'loan_prediction' requires the ipykernel package.\n",
      "\u001b[1;31mRun the following command to install 'ipykernel' into the Python environment. \n",
      "\u001b[1;31mCommand: 'conda install -n loan_prediction ipykernel --update-deps --force-reinstall'"
     ]
    }
   ],
   "source": [
    "from sklearn.ensemble import GradientBoostingClassifier\n",
    "gbc = GradientBoostingClassifier(n_estimators=250, max_depth=4, learning_rate=1)\n",
    "gbc.fit(X_train,Y_train)\n",
    "print(gbc)\n",
    "Y_pred_gbc=gbc.predict(X_test)\n",
    "f1_gbc=f1_score(Y_test,Y_pred_gbc)*100\n",
    "print(f1_gbc)\n",
    "pd.DataFrame(gbc.predict(test_df),columns=['prediction']).to_csv(\"Sample_Submission.csv\",index=False)"
   ]
  },
  {
   "cell_type": "code",
   "execution_count": null,
   "metadata": {},
   "outputs": [
    {
     "ename": "",
     "evalue": "",
     "output_type": "error",
     "traceback": [
      "\u001b[1;31mRunning cells with 'loan_prediction' requires the ipykernel package.\n",
      "\u001b[1;31mRun the following command to install 'ipykernel' into the Python environment. \n",
      "\u001b[1;31mCommand: 'conda install -n loan_prediction ipykernel --update-deps --force-reinstall'"
     ]
    }
   ],
   "source": [
    "def print_results(results):\n",
    "    print('BEST PARAMS: {}\\n'.format(results.best_params_))\n",
    "\n",
    "    means = results.cv_results_['mean_test_score']\n",
    "    stds = results.cv_results_['std_test_score']\n",
    "    for mean, std, params in zip(means, stds, results.cv_results_['params']):\n",
    "        print('{} (+/-{}) for {}'.format(round(mean, 3), round(std * 2, 3), params))"
   ]
  },
  {
   "cell_type": "code",
   "execution_count": null,
   "metadata": {},
   "outputs": [
    {
     "ename": "",
     "evalue": "",
     "output_type": "error",
     "traceback": [
      "\u001b[1;31mRunning cells with 'loan_prediction' requires the ipykernel package.\n",
      "\u001b[1;31mRun the following command to install 'ipykernel' into the Python environment. \n",
      "\u001b[1;31mCommand: 'conda install -n loan_prediction ipykernel --update-deps --force-reinstall'"
     ]
    }
   ],
   "source": [
    "# from sklearn.model_selection import RandomizedSearchCV\n",
    "\n",
    "# gbc = GradientBoostingClassifier()\n",
    "# parameters = {\n",
    "#     'n_estimators': [5, 50, 100, 150, 250],\n",
    "#     'max_depth': [2, 3, 4, 8, 16, 32, None],\n",
    "#     'learning_rate': [0.03, 0.1, 0.3, 1]\n",
    "# }\n",
    "# rs = RandomizedSearchCV(gbc, parameters, cv=5,n_iter=20)\n",
    "# rs.fit(X_train, Y_train)\n",
    "\n",
    "print_results(rs)"
   ]
  },
  {
   "cell_type": "code",
   "execution_count": null,
   "metadata": {},
   "outputs": [
    {
     "ename": "",
     "evalue": "",
     "output_type": "error",
     "traceback": [
      "\u001b[1;31mRunning cells with 'loan_prediction' requires the ipykernel package.\n",
      "\u001b[1;31mRun the following command to install 'ipykernel' into the Python environment. \n",
      "\u001b[1;31mCommand: 'conda install -n loan_prediction ipykernel --update-deps --force-reinstall'"
     ]
    }
   ],
   "source": [
    "from sklearn.neighbors import KNeighborsClassifier\n",
    "\n",
    "knn = KNeighborsClassifier(n_neighbors = 17) \n",
    "knn.fit(X_train, Y_train)\n",
    "print(knn)\n",
    "Y_pred_knn=knn.predict(X_test)\n",
    "f1_knn=f1_score(Y_test,Y_pred_knn)*100\n",
    "print(f1_knn)\n",
    "pd.DataFrame(knn.predict(test_df),columns=['prediction']).to_csv(\"Sample_Submission.csv\",index=False)"
   ]
  },
  {
   "cell_type": "code",
   "execution_count": null,
   "metadata": {},
   "outputs": [
    {
     "ename": "",
     "evalue": "",
     "output_type": "error",
     "traceback": [
      "\u001b[1;31mRunning cells with 'loan_prediction' requires the ipykernel package.\n",
      "\u001b[1;31mRun the following command to install 'ipykernel' into the Python environment. \n",
      "\u001b[1;31mCommand: 'conda install -n loan_prediction ipykernel --update-deps --force-reinstall'"
     ]
    }
   ],
   "source": [
    "import lightgbm as lgb\n",
    "\n",
    "d_train = lgb.Dataset(X_train, label = Y_train)\n",
    "params = {}\n",
    "\n",
    "clf = lgb.train(params, d_train, 100)\n",
    "print(clf)\n",
    "Y_pred_clf=clf.predict(X_test)\n",
    "for i in range(0, len(Y_pred_clf)):\n",
    "    if Y_pred_clf[i]>= 0.5:\n",
    "        Y_pred_clf[i]=1\n",
    "    else:  \n",
    "        Y_pred_clf[i]=0\n",
    "    \n",
    "f1_clf=f1_score(Y_test,Y_pred_clf)*100\n",
    "print(f1_clf)\n",
    "test_pred=clf.predict(test_df)\n",
    "test_pr=[]\n",
    "for i in range(0, len(test_pred)):\n",
    "    if test_pred[i]>= 0.5:\n",
    "        test_pr.append(1)\n",
    "    else:  \n",
    "        test_pr.append(0)\n",
    "print(test_pr)\n",
    "pd.DataFrame(test_pr,columns=['prediction']).to_csv(\"Sample_Submission.csv\",index=False)"
   ]
  },
  {
   "cell_type": "markdown",
   "metadata": {},
   "source": [
    "### Pickel the model."
   ]
  },
  {
   "cell_type": "code",
   "execution_count": null,
   "metadata": {},
   "outputs": [
    {
     "ename": "",
     "evalue": "",
     "output_type": "error",
     "traceback": [
      "\u001b[1;31mRunning cells with 'loan_prediction' requires the ipykernel package.\n",
      "\u001b[1;31mRun the following command to install 'ipykernel' into the Python environment. \n",
      "\u001b[1;31mCommand: 'conda install -n loan_prediction ipykernel --update-deps --force-reinstall'"
     ]
    }
   ],
   "source": [
    "import pickle\n",
    "with open('loan_application.pickle','wb') as f:\n",
    "    pickle.dump(rf,f)"
   ]
  },
  {
   "cell_type": "code",
   "execution_count": null,
   "metadata": {},
   "outputs": [
    {
     "ename": "",
     "evalue": "",
     "output_type": "error",
     "traceback": [
      "\u001b[1;31mRunning cells with 'loan_prediction' requires the ipykernel package.\n",
      "\u001b[1;31mRun the following command to install 'ipykernel' into the Python environment. \n",
      "\u001b[1;31mCommand: 'conda install -n loan_prediction ipykernel --update-deps --force-reinstall'"
     ]
    }
   ],
   "source": [
    "import json\n",
    "columns = {\n",
    "    'data_columns' : [col.lower() for col in X.columns]\n",
    "}\n",
    "with open(\"columns.json\",\"w\") as f:\n",
    "    f.write(json.dumps(columns))"
   ]
  },
  {
   "cell_type": "code",
   "execution_count": null,
   "metadata": {},
   "outputs": [
    {
     "ename": "",
     "evalue": "",
     "output_type": "error",
     "traceback": [
      "\u001b[1;31mRunning cells with 'loan_prediction' requires the ipykernel package.\n",
      "\u001b[1;31mRun the following command to install 'ipykernel' into the Python environment. \n",
      "\u001b[1;31mCommand: 'conda install -n loan_prediction ipykernel --update-deps --force-reinstall'"
     ]
    }
   ],
   "source": [
    "X.columns"
   ]
  },
  {
   "cell_type": "code",
   "execution_count": null,
   "metadata": {},
   "outputs": [
    {
     "ename": "",
     "evalue": "",
     "output_type": "error",
     "traceback": [
      "\u001b[1;31mRunning cells with 'loan_prediction' requires the ipykernel package.\n",
      "\u001b[1;31mRun the following command to install 'ipykernel' into the Python environment. \n",
      "\u001b[1;31mCommand: 'conda install -n loan_prediction ipykernel --update-deps --force-reinstall'"
     ]
    }
   ],
   "source": []
  },
  {
   "cell_type": "code",
   "execution_count": null,
   "metadata": {},
   "outputs": [
    {
     "ename": "",
     "evalue": "",
     "output_type": "error",
     "traceback": [
      "\u001b[1;31mRunning cells with 'loan_prediction' requires the ipykernel package.\n",
      "\u001b[1;31mRun the following command to install 'ipykernel' into the Python environment. \n",
      "\u001b[1;31mCommand: 'conda install -n loan_prediction ipykernel --update-deps --force-reinstall'"
     ]
    }
   ],
   "source": [
    "loan_data.Property_Area.value_counts()"
   ]
  },
  {
   "cell_type": "code",
   "execution_count": null,
   "metadata": {},
   "outputs": [
    {
     "ename": "",
     "evalue": "",
     "output_type": "error",
     "traceback": [
      "\u001b[1;31mRunning cells with 'loan_prediction' requires the ipykernel package.\n",
      "\u001b[1;31mRun the following command to install 'ipykernel' into the Python environment. \n",
      "\u001b[1;31mCommand: 'conda install -n loan_prediction ipykernel --update-deps --force-reinstall'"
     ]
    }
   ],
   "source": [
    "def predict_loan_appl(LoanAmount, Loan_Amount_Term, Gender, Married, Dependents, Education, Self_Employed, \n",
    "                      Credit_History, Property_Area, ApplicantIncome=0, CoapplicantIncome=0):\n",
    "    \n",
    "    # Get medians of loanamount and loan_amount_term, while re-training and assign to below 2 variables.\n",
    "    median_loanamount=126\n",
    "    median_loan_amount_term=360\n",
    "        \n",
    "    LoanAmount= LoanAmount or median_loanamount\n",
    "    Loan_Amount_Term = Loan_Amount_Term or median_loan_amount_term\n",
    "    \n",
    "    # All categorical features are defaulted to 'else' if there is NULL. Make sure Mode of each feature falls in 'ELSE' part.\n",
    "    if Gender=='Female':\n",
    "        g_f=1\n",
    "        g_m=0\n",
    "    else:\n",
    "        g_f=0\n",
    "        g_m=1\n",
    "    \n",
    "    if Married=='No':\n",
    "        m_y=0\n",
    "        m_n=1\n",
    "    else:\n",
    "        m_y=1\n",
    "        m_n=0\n",
    "\n",
    "    dep=Dependents\n",
    "    dp=np.zeros(4)\n",
    "    if dep=='1':\n",
    "        dp[1]=1\n",
    "    elif dep=='2':\n",
    "        dp[2]=1\n",
    "    elif dep=='3+':\n",
    "        dp[3]=1\n",
    "    else:\n",
    "        dp[0]=1\n",
    "    \n",
    "    if Education=='Not Graduate':\n",
    "        e_g=0\n",
    "        e_n=1\n",
    "    else:\n",
    "        e_g=1\n",
    "        e_n=0\n",
    "    \n",
    "    if Self_Employed=='Yes':\n",
    "        se_n=0\n",
    "        se_y=1\n",
    "    else:\n",
    "        se_n=1\n",
    "        se_y=0\n",
    "        \n",
    "    if Credit_History=='0':\n",
    "        ch_0=1\n",
    "        ch_1=0\n",
    "    else:\n",
    "        ch_0=0\n",
    "        ch_1=1\n",
    "    \n",
    "    prop_area=Property_Area\n",
    "    pa=np.zeros(3)\n",
    "    if prop_area=='Rural':\n",
    "        pa[0]=1\n",
    "    elif prop_area=='Urban':\n",
    "        pa[2]=1\n",
    "    else:\n",
    "        pa[1]=1\n",
    "        \n",
    "    x = np.zeros(len(X.columns))\n",
    "\n",
    "    x[0] = ApplicantIncome\n",
    "    x[1] = CoapplicantIncome\n",
    "    x[2] = LoanAmount\n",
    "    x[3] = Loan_Amount_Term\n",
    "    \n",
    "    x[4] = g_f\n",
    "    x[5] = g_m\n",
    "    x[6] = m_n\n",
    "    x[7] = m_y\n",
    "    x[8] = dp[0]\n",
    "    x[9] = dp[1]\n",
    "    x[10] = dp[2]\n",
    "    x[11] = dp[3]\n",
    "    x[12] = e_g\n",
    "    x[13] = e_n\n",
    "    x[14] = se_n\n",
    "    x[15] = se_y\n",
    "    x[16] = ch_0\n",
    "    x[17] = ch_1\n",
    "    x[18] = pa[0]\n",
    "    x[19] = pa[1]\n",
    "    x[20] = pa[2]\n",
    "    \n",
    "    return rf.predict([x])[0]\n"
   ]
  },
  {
   "cell_type": "code",
   "execution_count": null,
   "metadata": {},
   "outputs": [
    {
     "ename": "",
     "evalue": "",
     "output_type": "error",
     "traceback": [
      "\u001b[1;31mRunning cells with 'loan_prediction' requires the ipykernel package.\n",
      "\u001b[1;31mRun the following command to install 'ipykernel' into the Python environment. \n",
      "\u001b[1;31mCommand: 'conda install -n loan_prediction ipykernel --update-deps --force-reinstall'"
     ]
    }
   ],
   "source": [
    "predict_loan_appl(115, 30, 'Female', \"No\", '3+', 'Graduate', 'No', 'NAN', None,0,1000)"
   ]
  },
  {
   "cell_type": "code",
   "execution_count": null,
   "metadata": {},
   "outputs": [
    {
     "ename": "",
     "evalue": "",
     "output_type": "error",
     "traceback": [
      "\u001b[1;31mRunning cells with 'loan_prediction' requires the ipykernel package.\n",
      "\u001b[1;31mRun the following command to install 'ipykernel' into the Python environment. \n",
      "\u001b[1;31mCommand: 'conda install -n loan_prediction ipykernel --update-deps --force-reinstall'"
     ]
    }
   ],
   "source": [
    "predict_loan_appl(115, 30, 'Female', \"No\", '3+', 'Graduate', 'No', 'NAN', 'Urban')"
   ]
  }
 ],
 "metadata": {
  "kernelspec": {
   "display_name": "Python 3",
   "language": "python",
   "name": "python3"
  },
  "language_info": {
   "codemirror_mode": {
    "name": "ipython",
    "version": 3
   },
   "file_extension": ".py",
   "mimetype": "text/x-python",
   "name": "python",
   "nbconvert_exporter": "python",
   "pygments_lexer": "ipython3",
   "version": "3.7.16"
  }
 },
 "nbformat": 4,
 "nbformat_minor": 4
}
